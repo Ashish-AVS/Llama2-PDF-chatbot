{
  "cells": [
    {
      "cell_type": "markdown",
      "metadata": {
        "id": "view-in-github",
        "colab_type": "text"
      },
      "source": [
        "<a href=\"https://colab.research.google.com/github/Ashish-AVS/Llama_Chatbot_CPU/blob/main/Final_Chatbot(1).ipynb\" target=\"_parent\"><img src=\"https://colab.research.google.com/assets/colab-badge.svg\" alt=\"Open In Colab\"/></a>"
      ]
    },
    {
      "cell_type": "code",
      "execution_count": null,
      "metadata": {
        "colab": {
          "base_uri": "https://localhost:8080/"
        },
        "id": "eQlQ4ZWgcXDW",
        "outputId": "76514879-d4b7-4291-a286-88b4c7b321c6"
      },
      "outputs": [
        {
          "output_type": "stream",
          "name": "stdout",
          "text": [
            "\u001b[33mWARNING: Running pip as the 'root' user can result in broken permissions and conflicting behaviour with the system package manager. It is recommended to use a virtual environment instead: https://pip.pypa.io/warnings/venv\u001b[0m\u001b[33m\n",
            "\u001b[0m\u001b[33mWARNING: Running pip as the 'root' user can result in broken permissions and conflicting behaviour with the system package manager. It is recommended to use a virtual environment instead: https://pip.pypa.io/warnings/venv\u001b[0m\u001b[33m\n",
            "\u001b[0m\u001b[33mWARNING: Running pip as the 'root' user can result in broken permissions and conflicting behaviour with the system package manager. It is recommended to use a virtual environment instead: https://pip.pypa.io/warnings/venv\u001b[0m\u001b[33m\n",
            "\u001b[0m\u001b[33mWARNING: Running pip as the 'root' user can result in broken permissions and conflicting behaviour with the system package manager. It is recommended to use a virtual environment instead: https://pip.pypa.io/warnings/venv\u001b[0m\u001b[33m\n",
            "\u001b[0m\u001b[33mWARNING: Running pip as the 'root' user can result in broken permissions and conflicting behaviour with the system package manager. It is recommended to use a virtual environment instead: https://pip.pypa.io/warnings/venv\u001b[0m\u001b[33m\n",
            "\u001b[0m\u001b[33mWARNING: Running pip as the 'root' user can result in broken permissions and conflicting behaviour with the system package manager. It is recommended to use a virtual environment instead: https://pip.pypa.io/warnings/venv\u001b[0m\u001b[33m\n",
            "\u001b[0m\u001b[33mWARNING: Running pip as the 'root' user can result in broken permissions and conflicting behaviour with the system package manager. It is recommended to use a virtual environment instead: https://pip.pypa.io/warnings/venv\u001b[0m\u001b[33m\n",
            "\u001b[0m\u001b[33mWARNING: Running pip as the 'root' user can result in broken permissions and conflicting behaviour with the system package manager. It is recommended to use a virtual environment instead: https://pip.pypa.io/warnings/venv\u001b[0m\u001b[33m\n",
            "\u001b[0m\u001b[33mWARNING: Running pip as the 'root' user can result in broken permissions and conflicting behaviour with the system package manager. It is recommended to use a virtual environment instead: https://pip.pypa.io/warnings/venv\u001b[0m\u001b[33m\n",
            "\u001b[0m\u001b[33mWARNING: Running pip as the 'root' user can result in broken permissions and conflicting behaviour with the system package manager. It is recommended to use a virtual environment instead: https://pip.pypa.io/warnings/venv\u001b[0m\u001b[33m\n",
            "\u001b[0m"
          ]
        }
      ],
      "source": [
        "!pip install -Uqqq pip --progress-bar off\n",
        "!pip install -qqq torch==2.0.1 --progress-bar off\n",
        "!pip install -qqq transformers==4.31.0 --progress-bar off\n",
        "!pip install -qqq langchain==0.0.266 --progress-bar off\n",
        "!pip install -qqq chromadb==0.4.5 --progress-bar off\n",
        "!pip install -qqq pypdf==3.15.0 --progress-bar off\n",
        "!pip install -qqq xformers==0.0.20 --progress-bar off\n",
        "!pip install -qqq sentence_transformers==2.2.2 --progress-bar off\n",
        "!pip install -qqq InstructorEmbedding==1.0.1 --progress-bar off\n",
        "!pip install -qqq pdf2image==1.16.3 --progress-bar off"
      ]
    },
    {
      "cell_type": "code",
      "execution_count": null,
      "metadata": {
        "id": "ecTRR8hwhn0C"
      },
      "outputs": [],
      "source": [
        "!wget -q https://github.com/PanQiWei/AutoGPTQ/releases/download/v0.4.1/auto_gptq-0.4.1+cu118-cp310-cp310-linux_x86_64.whl"
      ]
    },
    {
      "cell_type": "code",
      "execution_count": null,
      "metadata": {
        "colab": {
          "base_uri": "https://localhost:8080/"
        },
        "id": "C0_Fa50LkfoB",
        "outputId": "162a4096-54f6-4b6b-808b-1e9b0316d050"
      },
      "outputs": [
        {
          "output_type": "stream",
          "name": "stdout",
          "text": [
            "\u001b[33mWARNING: Running pip as the 'root' user can result in broken permissions and conflicting behaviour with the system package manager. It is recommended to use a virtual environment instead: https://pip.pypa.io/warnings/venv\u001b[0m\u001b[33m\n",
            "\u001b[0m"
          ]
        }
      ],
      "source": [
        "!pip install -qqq auto_gptq-0.4.1+cu118-cp310-cp310-linux_x86_64.whl --progress-bar off"
      ]
    },
    {
      "cell_type": "code",
      "execution_count": null,
      "metadata": {
        "colab": {
          "base_uri": "https://localhost:8080/"
        },
        "id": "t7ShwfeTubDU",
        "outputId": "56082da0-0d23-42a8-ac1f-db1e6f20115f"
      },
      "outputs": [
        {
          "output_type": "stream",
          "name": "stdout",
          "text": [
            "Reading package lists... Done\n",
            "Building dependency tree... Done\n",
            "Reading state information... Done\n",
            "poppler-utils is already the newest version (22.02.0-2ubuntu0.2).\n",
            "0 upgraded, 0 newly installed, 0 to remove and 16 not upgraded.\n"
          ]
        }
      ],
      "source": [
        "!sudo apt-get install poppler-utils"
      ]
    },
    {
      "cell_type": "code",
      "execution_count": null,
      "metadata": {
        "id": "vH5IpjeNflMU"
      },
      "outputs": [],
      "source": [
        "import torch\n",
        "from auto_gptq import AutoGPTQForCausalLM\n",
        "from langchain import HuggingFacePipeline, PromptTemplate\n",
        "from langchain.chains import RetrievalQA\n",
        "from langchain.document_loaders import PyPDFDirectoryLoader\n",
        "from langchain.embeddings import HuggingFaceInstructEmbeddings\n",
        "from langchain.text_splitter import RecursiveCharacterTextSplitter\n",
        "from langchain.vectorstores import Chroma\n",
        "from pdf2image import convert_from_path\n",
        "from transformers import AutoTokenizer, TextStreamer, pipeline\n",
        "\n",
        "DEVICE = \"cuda:0\" if torch.cuda.is_available() else \"cpu\""
      ]
    },
    {
      "cell_type": "markdown",
      "metadata": {
        "id": "jiX57tzWOJAg"
      },
      "source": [
        "## Data"
      ]
    },
    {
      "cell_type": "code",
      "execution_count": null,
      "metadata": {
        "colab": {
          "base_uri": "https://localhost:8080/"
        },
        "id": "OQm1m0Me0XHj",
        "outputId": "55367ad0-6f7a-405a-c027-a187875b83ac"
      },
      "outputs": [
        {
          "output_type": "stream",
          "name": "stdout",
          "text": [
            "mkdir: cannot create directory ‘pdfs’: File exists\n"
          ]
        }
      ],
      "source": [
        "!mkdir pdfs"
      ]
    },
    {
      "cell_type": "code",
      "execution_count": null,
      "metadata": {
        "id": "9fwPUCxrmyec"
      },
      "outputs": [],
      "source": []
    },
    {
      "cell_type": "code",
      "execution_count": null,
      "metadata": {
        "id": "6ywUvMDqZFf4"
      },
      "outputs": [],
      "source": [
        "!rm -rf \"db\""
      ]
    },
    {
      "cell_type": "code",
      "execution_count": null,
      "metadata": {
        "colab": {
          "base_uri": "https://localhost:8080/"
        },
        "id": "RQmhREpeOInh",
        "outputId": "538e1389-3f43-49a3-e300-af3093350257"
      },
      "outputs": [
        {
          "output_type": "execute_result",
          "data": {
            "text/plain": [
              "738"
            ]
          },
          "metadata": {},
          "execution_count": 9
        }
      ],
      "source": [
        "loader = PyPDFDirectoryLoader(\"pdfs\")\n",
        "docs = loader.load()\n",
        "len(docs)"
      ]
    },
    {
      "cell_type": "code",
      "execution_count": null,
      "metadata": {
        "colab": {
          "base_uri": "https://localhost:8080/"
        },
        "id": "wjJ0DI9MRNkT",
        "outputId": "d25a770c-3a84-4c7e-da93-459e360342d6"
      },
      "outputs": [
        {
          "output_type": "stream",
          "name": "stdout",
          "text": [
            "load INSTRUCTOR_Transformer\n",
            "max_seq_length  512\n"
          ]
        }
      ],
      "source": [
        "embeddings = HuggingFaceInstructEmbeddings(\n",
        "    model_name=\"hkunlp/instructor-large\", model_kwargs={\"device\": DEVICE}\n",
        ")"
      ]
    },
    {
      "cell_type": "code",
      "execution_count": null,
      "metadata": {
        "colab": {
          "base_uri": "https://localhost:8080/"
        },
        "id": "yFztsob3WO3x",
        "outputId": "5b207ce4-f455-4b95-fde4-33358b5e463c"
      },
      "outputs": [
        {
          "output_type": "execute_result",
          "data": {
            "text/plain": [
              "3401"
            ]
          },
          "metadata": {},
          "execution_count": 11
        }
      ],
      "source": [
        "text_splitter = RecursiveCharacterTextSplitter(chunk_size=1024, chunk_overlap=64)\n",
        "texts = text_splitter.split_documents(docs)\n",
        "len(texts)"
      ]
    },
    {
      "cell_type": "code",
      "execution_count": null,
      "metadata": {
        "colab": {
          "base_uri": "https://localhost:8080/"
        },
        "id": "ESFJOOYEWTX9",
        "outputId": "21fe6fe6-59a2-4f52-d8f7-838f31d28e15"
      },
      "outputs": [
        {
          "output_type": "stream",
          "name": "stdout",
          "text": [
            "CPU times: user 4min 8s, sys: 5.25 s, total: 4min 13s\n",
            "Wall time: 4min 52s\n"
          ]
        }
      ],
      "source": [
        "%%time\n",
        "db = Chroma.from_documents(texts, embeddings, persist_directory=\"db\")"
      ]
    },
    {
      "cell_type": "code",
      "execution_count": null,
      "metadata": {
        "colab": {
          "base_uri": "https://localhost:8080/"
        },
        "id": "DrSTLMQbfjFp",
        "outputId": "f3bc9281-3309-4aa6-b7c1-e52dcdc70d58"
      },
      "outputs": [
        {
          "output_type": "stream",
          "name": "stderr",
          "text": [
            "WARNING:auto_gptq.nn_modules.fused_llama_mlp:skip module injection for FusedLlamaMLPForQuantizedModel not support integrate without triton yet.\n"
          ]
        }
      ],
      "source": [
        "model_name_or_path = \"TheBloke/Llama-2-13B-chat-GPTQ\"\n",
        "model_basename = \"model\"\n",
        "\n",
        "tokenizer = AutoTokenizer.from_pretrained(model_name_or_path, use_fast=True)\n",
        "\n",
        "model = AutoGPTQForCausalLM.from_quantized(\n",
        "    model_name_or_path,\n",
        "    revision=\"gptq-4bit-128g-actorder_True\",\n",
        "    model_basename=model_basename,\n",
        "    use_safetensors=True,\n",
        "    trust_remote_code=True,\n",
        "    inject_fused_attention=False,\n",
        "    device=DEVICE,\n",
        "    quantize_config=None,\n",
        ")"
      ]
    },
    {
      "cell_type": "code",
      "execution_count": null,
      "metadata": {
        "id": "NKUo_0gxRD-a"
      },
      "outputs": [],
      "source": [
        "DEFAULT_SYSTEM_PROMPT = \"\"\"\n",
        "You are a helpful, respectful and honest assistant. Always answer as helpfully as possible, while being safe. Your answers should not include any harmful, unethical, racist, sexist, toxic, dangerous, or illegal content. Please ensure that your responses are socially unbiased and positive in nature.\n",
        "\n",
        "If a question does not make any sense, or is not factually coherent, explain why instead of answering something not correct. If you don't know the answer to a question, please don't share false information.\n",
        "\"\"\".strip()\n",
        "\n",
        "\n",
        "def generate_prompt(prompt: str, system_prompt: str = DEFAULT_SYSTEM_PROMPT) -> str:\n",
        "    return f\"\"\"\n",
        "[INST] <<SYS>>\n",
        "{system_prompt}\n",
        "<</SYS>>\n",
        "\n",
        "{prompt} [/INST]\n",
        "\"\"\".strip()"
      ]
    },
    {
      "cell_type": "code",
      "execution_count": null,
      "metadata": {
        "id": "5H6rPBpEAALY"
      },
      "outputs": [],
      "source": [
        "streamer = TextStreamer(tokenizer, skip_prompt=True, skip_special_tokens=True)"
      ]
    },
    {
      "cell_type": "code",
      "execution_count": null,
      "metadata": {
        "colab": {
          "base_uri": "https://localhost:8080/"
        },
        "id": "ZYaQDkDvVvIz",
        "outputId": "332dfd1b-fe89-42da-e70a-ba968a7e2712"
      },
      "outputs": [
        {
          "output_type": "stream",
          "name": "stderr",
          "text": [
            "The model 'LlamaGPTQForCausalLM' is not supported for text-generation. Supported models are ['BartForCausalLM', 'BertLMHeadModel', 'BertGenerationDecoder', 'BigBirdForCausalLM', 'BigBirdPegasusForCausalLM', 'BioGptForCausalLM', 'BlenderbotForCausalLM', 'BlenderbotSmallForCausalLM', 'BloomForCausalLM', 'CamembertForCausalLM', 'CodeGenForCausalLM', 'CpmAntForCausalLM', 'CTRLLMHeadModel', 'Data2VecTextForCausalLM', 'ElectraForCausalLM', 'ErnieForCausalLM', 'FalconForCausalLM', 'GitForCausalLM', 'GPT2LMHeadModel', 'GPT2LMHeadModel', 'GPTBigCodeForCausalLM', 'GPTNeoForCausalLM', 'GPTNeoXForCausalLM', 'GPTNeoXJapaneseForCausalLM', 'GPTJForCausalLM', 'LlamaForCausalLM', 'MarianForCausalLM', 'MBartForCausalLM', 'MegaForCausalLM', 'MegatronBertForCausalLM', 'MusicgenForCausalLM', 'MvpForCausalLM', 'OpenLlamaForCausalLM', 'OpenAIGPTLMHeadModel', 'OPTForCausalLM', 'PegasusForCausalLM', 'PLBartForCausalLM', 'ProphetNetForCausalLM', 'QDQBertLMHeadModel', 'ReformerModelWithLMHead', 'RemBertForCausalLM', 'RobertaForCausalLM', 'RobertaPreLayerNormForCausalLM', 'RoCBertForCausalLM', 'RoFormerForCausalLM', 'RwkvForCausalLM', 'Speech2Text2ForCausalLM', 'TransfoXLLMHeadModel', 'TrOCRForCausalLM', 'XGLMForCausalLM', 'XLMWithLMHeadModel', 'XLMProphetNetForCausalLM', 'XLMRobertaForCausalLM', 'XLMRobertaXLForCausalLM', 'XLNetLMHeadModel', 'XmodForCausalLM'].\n"
          ]
        }
      ],
      "source": [
        "text_pipeline = pipeline(\n",
        "    \"text-generation\",\n",
        "    model=model,\n",
        "    tokenizer=tokenizer,\n",
        "    max_new_tokens=1024,\n",
        "    temperature=0,\n",
        "    top_p=0.95,\n",
        "    repetition_penalty=1.15,\n",
        "    streamer=streamer,\n",
        ")"
      ]
    },
    {
      "cell_type": "code",
      "execution_count": null,
      "metadata": {
        "id": "s0sKzP77ZCok"
      },
      "outputs": [],
      "source": [
        "llm = HuggingFacePipeline(pipeline=text_pipeline, model_kwargs={\"temperature\": 0})"
      ]
    },
    {
      "cell_type": "code",
      "execution_count": null,
      "metadata": {
        "id": "J3RKlMe4DNMn"
      },
      "outputs": [],
      "source": [
        "SYSTEM_PROMPT = \"Use the following pieces of context to answer the question at the end. If you don't know the answer, just say that you don't know, don't try to make up an answer.\"\n",
        "\n",
        "template = generate_prompt(\n",
        "    \"\"\"\n",
        "{context}\n",
        "\n",
        "Question: {question}\n",
        "\"\"\",\n",
        "    system_prompt=SYSTEM_PROMPT,\n",
        ")"
      ]
    },
    {
      "cell_type": "code",
      "execution_count": null,
      "metadata": {
        "id": "pJpTuSEoDDEJ"
      },
      "outputs": [],
      "source": [
        "prompt = PromptTemplate(template=template, input_variables=[\"context\", \"question\"])"
      ]
    },
    {
      "cell_type": "code",
      "execution_count": null,
      "metadata": {
        "id": "0DC-RU6DZCIS"
      },
      "outputs": [],
      "source": [
        "qa_chain = RetrievalQA.from_chain_type(\n",
        "    llm=llm,\n",
        "    chain_type=\"stuff\",\n",
        "    retriever=db.as_retriever(search_kwargs={\"k\": 2}),\n",
        "    return_source_documents=True,\n",
        "    chain_type_kwargs={\"prompt\": prompt},\n",
        ")"
      ]
    },
    {
      "cell_type": "markdown",
      "metadata": {
        "id": "J7IWZ6H1ax4z"
      },
      "source": [
        "## Chat with Multiple PDFs"
      ]
    },
    {
      "cell_type": "code",
      "execution_count": null,
      "metadata": {
        "colab": {
          "base_uri": "https://localhost:8080/"
        },
        "id": "nKmLM4UTfVmL",
        "outputId": "99d9248e-b23d-45b1-f6c4-d502d9ab9fa4"
      },
      "outputs": [
        {
          "output_type": "stream",
          "name": "stdout",
          "text": [
            " I don't know the answer to your question. Based on the information provided, there is no mention of a \"Director\" of BITS Pilani. The position of Chief Finance Officer (On Deputation) is mentioned, but there is no mention of a Director.\n"
          ]
        }
      ],
      "source": [
        "result = qa_chain(\"Who is the Director of BITS Pilani\")"
      ]
    },
    {
      "cell_type": "code",
      "execution_count": null,
      "metadata": {
        "colab": {
          "base_uri": "https://localhost:8080/"
        },
        "id": "1k96dxrgfjMr",
        "outputId": "e7e01ebb-7176-4d37-bf4e-b325b29b56bc"
      },
      "outputs": [
        {
          "output_type": "stream",
          "name": "stdout",
          "text": [
            " Based on the provided context, I cannot determine what SAC stands for. The given text does not mention any specific term or acronym called \"SAC\". Therefore, without more information or context, it is impossible for me to provide an answer to this question.\n"
          ]
        }
      ],
      "source": [
        "result = qa_chain(\"What is SAC?\")"
      ]
    },
    {
      "cell_type": "code",
      "execution_count": null,
      "metadata": {
        "colab": {
          "base_uri": "https://localhost:8080/"
        },
        "id": "waIck-yefydp",
        "outputId": "0bcc8d72-541b-4a09-bebb-d8d558eac3cf"
      },
      "outputs": [
        {
          "output_type": "stream",
          "name": "stdout",
          "text": [
            " Based on the provided context, an elective is a course that a student can choose to take in addition to their required coursework. Electives are not mandatory and do not count towards the minimum number of courses or units required for graduation. There are two types of electives: discipline electives and other electives. Discipline electives are courses that are part of the student's primary area of study, while other electives are courses that are outside of the student's primary area of study and are offered to provide additional flexibility in the curriculum.\n"
          ]
        }
      ],
      "source": [
        "result = qa_chain(\"What is an Elective?\")"
      ]
    },
    {
      "cell_type": "code",
      "execution_count": null,
      "metadata": {
        "colab": {
          "base_uri": "https://localhost:8080/"
        },
        "id": "nq6cf8vof6wM",
        "outputId": "e5653bda-e11a-41c0-a909-5740d7700fb3"
      },
      "outputs": [
        {
          "output_type": "stream",
          "name": "stdout",
          "text": [
            " Based on the provided context, I can answer the question.\n",
            "\n",
            "A dual degree refers to a program where students pursue two separate undergraduate degrees simultaneously, typically taking courses from two different disciplines. This allows students to gain knowledge and expertise in multiple fields, which can broaden their career opportunities and enhance their employability. The program is designed to allow students to earn two degrees within a shorter time frame than if they were to pursue each degree separately.\n"
          ]
        }
      ],
      "source": [
        "result = qa_chain(\"What is a Dual Degree?\")"
      ]
    },
    {
      "cell_type": "code",
      "execution_count": null,
      "metadata": {
        "colab": {
          "base_uri": "https://localhost:8080/"
        },
        "id": "SIFTDoxzgY07",
        "outputId": "82d59c6a-0587-4daf-fe9f-048e71a0babb"
      },
      "outputs": [
        {
          "output_type": "stream",
          "name": "stdout",
          "text": [
            " I don't know who the chairperson of BITS Pilani is based on the provided information. The information only lists members of various committees and their contact details, but there is no mention of a chairperson for BITS Pilani.\n"
          ]
        }
      ],
      "source": [
        "result = qa_chain(\"Who is the chairperson of BITS Pilani?\")"
      ]
    },
    {
      "cell_type": "code",
      "execution_count": null,
      "metadata": {
        "colab": {
          "base_uri": "https://localhost:8080/"
        },
        "id": "cxp167huggFb",
        "outputId": "6954bad8-ee71-4063-f711-74169372261b"
      },
      "outputs": [
        {
          "output_type": "stream",
          "name": "stdout",
          "text": [
            " Based on the information provided, here is a list of professors of BITS Pilani:\n",
            "\n",
            "1. Udayan Chanda\n",
            "2. Krishnamurthy Bindumadhavan\n",
            "3. Sandeep Kayastha\n",
            "4. Annapoorna Gopal\n",
            "5. Leela Rani\n",
            "6. Jayashree Mahesh\n",
            "7. Satyendra Kr Sharma\n",
            "8. Rajiv Gupta\n",
            "9. Ajit Pratap Singh\n",
            "10. S B Singh\n",
            "11. Anshuman\n",
            "12. Manoj Kumar\n",
            "13. Anupam Singhal\n",
            "14. Ravi Kant Mittal\n"
          ]
        }
      ],
      "source": [
        "result = qa_chain(\n",
        "    \"List some Professors of BITS Pilani?\"\n",
        ")"
      ]
    },
    {
      "cell_type": "code",
      "execution_count": null,
      "metadata": {
        "colab": {
          "base_uri": "https://localhost:8080/"
        },
        "id": "vRuJYwSbgpij",
        "outputId": "e3c0f37a-931a-41cf-b479-dc9eef888710"
      },
      "outputs": [
        {
          "output_type": "stream",
          "name": "stdout",
          "text": [
            " I cannot make a decision for you whether you should join BITSoM or not, as it depends on your personal preferences, career goals, and financial situation. However, based on the information provided, BITSoM appears to be a well-regarded business school with a strong leadership team, experienced faculty, and a focus on innovation and human values.\n",
            "\n",
            "If you are considering pursuing a master's degree in management, BITSoM may be a good option to consider. The school's emphasis on technology integration, entrepreneurship, and global perspectives could provide valuable skills and knowledge in today's rapidly changing business landscape. Additionally, the school's industry advisory council and governing council, comprised of respected leaders from top companies and educational institutions, may offer valuable insights and networking opportunities.\n",
            "\n",
            "Ultimately, the decision to join BITSoM or any other business school should be based on your individual circumstances and priorities. It may be helpful to research further, speak with current students or alumni, and weigh the pros and cons before making a decision.\n"
          ]
        }
      ],
      "source": [
        "result = qa_chain(\n",
        "    \"Should I join BITSoM?\"\n",
        " )"
      ]
    },
    {
      "cell_type": "code",
      "execution_count": null,
      "metadata": {
        "colab": {
          "base_uri": "https://localhost:8080/"
        },
        "id": "lkBhNMIdkYc5",
        "outputId": "b53143ee-3c55-4bcd-d7ad-4fa348c47b0d"
      },
      "outputs": [
        {
          "output_type": "stream",
          "name": "stdout",
          "text": [
            " Based on the provided context, I can answer the question about Practice School as follows:\n",
            "\n",
            "Practice School (PS) is a method of education used by a university to link the academic curriculum with the professional world. Under this method, students apply the knowledge they have learned in the classroom to solve real-life problems in a professional setting. The Practice School is a centralized activity for the university, and it involves students working on projects and being mentored by both faculty members and industry professionals. The PS method is designed to meet the rapidly changing needs and challenges of the environment, help students develop their intelligence and capabilities, and bear economic relevance to society.\n"
          ]
        }
      ],
      "source": [
        "result = qa_chain(\n",
        "    \"What is Practise School?\"\n",
        " )"
      ]
    },
    {
      "cell_type": "code",
      "execution_count": null,
      "metadata": {
        "colab": {
          "base_uri": "https://localhost:8080/"
        },
        "id": "u9YA7qKaqPDY",
        "outputId": "694f2cc5-f9e3-4809-cb98-f57d4efc52a9"
      },
      "outputs": [
        {
          "output_type": "stream",
          "name": "stdout",
          "text": [
            " Based on the given information, it appears that it is possible to do both thesis and Practice School (PS) in the same semester in BITS, but there are certain restrictions and limitations.\n",
            "\n",
            "According to point (iv) of the information provided, students who opt for a 16-unit thesis must not be simultaneously registered in any other course. This suggests that if a student chooses to do a 16-unit thesis, they will need to dedicate their entire semester to that thesis and will not be able to take any other courses simultaneously.\n",
            "\n",
            "On the other hand, point (iii) states that students who opt for a 9-unit thesis may be permitted to register in other courses simultaneously with the thesis. However, it does not explicitly state whether this includes Practice School (PS).\n",
            "\n",
            "Therefore, without further clarification or information, it is unclear whether doing thesis and PS in the same semester is allowed or not. It is possible that the institution may have specific guidelines or restrictions on this matter that are not reflected in the provided information.\n"
          ]
        }
      ],
      "source": [
        "result = qa_chain(\n",
        "  \"Can you do thesis and PS in the same semester in BITS?\"\n",
        ")"
      ]
    },
    {
      "cell_type": "code",
      "execution_count": null,
      "metadata": {
        "colab": {
          "base_uri": "https://localhost:8080/"
        },
        "id": "b3Ky3OF6qZEC",
        "outputId": "3fd74acb-24a1-4d1f-a3ed-6cc30e992a01"
      },
      "outputs": [
        {
          "output_type": "stream",
          "name": "stdout",
          "text": [
            " Based on the information provided, it appears that Wipro does hire from BITS, as there are several collaborations between BITS and Wipro listed in the text. These collaborations include M.Tech. programs in Software Engineering, Computing Systems & Infrastructure, and Microelectronics, as well as a B.Tech. program in Information Systems. Additionally, there are several Organization Professionals from Wipro listed, including Mr. Ajay Narayanan, Ms. Neha, Ms. Anchal Tripathi, Ms. Ashif Banu Abdul Razak, Ms. P. Monica Prisulla, Ms. Pinky Paresh Bhatt, and Ms. Puhpanjali Patnaik. However, without more specific information about current hiring practices or the status of these collaborations, I cannot confirm whether Wipro currently hires from BITS.\n"
          ]
        }
      ],
      "source": [
        "result = qa_chain(\n",
        "    \"Does Wipro hire from BITS?\"\n",
        " )"
      ]
    },
    {
      "cell_type": "code",
      "execution_count": null,
      "metadata": {
        "id": "ZpJCTYsaO8R-"
      },
      "outputs": [],
      "source": []
    },
    {
      "cell_type": "code",
      "execution_count": null,
      "metadata": {
        "id": "7iDtfQSHO8vc"
      },
      "outputs": [],
      "source": [
        "#output function\n",
        "def final_result(query):\n",
        "    return qa_chain(query)"
      ]
    },
    {
      "cell_type": "code",
      "execution_count": null,
      "metadata": {
        "colab": {
          "base_uri": "https://localhost:8080/"
        },
        "id": "2i-xvEKjPF-g",
        "outputId": "2ea6edcf-db3c-425d-ea21-c514aa28c95a"
      },
      "outputs": [
        {
          "output_type": "stream",
          "name": "stderr",
          "text": [
            "/usr/local/lib/python3.10/dist-packages/transformers/pipelines/base.py:1083: UserWarning: You seem to be using the pipelines sequentially on GPU. In order to maximize efficiency please use a dataset\n",
            "  warnings.warn(\n"
          ]
        },
        {
          "output_type": "stream",
          "name": "stdout",
          "text": [
            " Sure! Here's my answer based on the provided context:\n",
            "\n",
            "What is the location of BITS Pilani?\n",
            "\n",
            "Answer: BITS Pilani is located in Pilani, Jhunjhunu district, Rajasthan, India.\n"
          ]
        },
        {
          "output_type": "execute_result",
          "data": {
            "text/plain": [
              "{'query': 'BITS Pilani',\n",
              " 'result': \"  Sure! Here's my answer based on the provided context:\\n\\nWhat is the location of BITS Pilani?\\n\\nAnswer: BITS Pilani is located in Pilani, Jhunjhunu district, Rajasthan, India.\",\n",
              " 'source_documents': [Document(page_content='I-4 CAMPUSES OF BITS  \\nBITS Pilani - Pilani Campus  \\nBITS Pilani, Pilani Campus is located in the \\nVidya Vihar campus adjacent to Pilani town in \\nJhunjhunu district, in Rajasthan. Pilani is the \\nhome town of t he Birla family and has a \\npopulation of about 50,000. It is about 200 km \\nwest of Delhi and about 220 km north of Jaipur. \\nThe temperatures during the year go to \\nextremes like 45°C in summer and 0°C in \\nwinter. The climate is generally dry and healthy. \\nAnnual  rainfall is about 30 cms.  \\nThe Institute buildings, hostels and residential \\nquarters for staff with neatly laid out roads, \\nlawns and gardens constitute the BITS Campus \\nof about 240 acres.  \\nPilani can be reached either by rail or by road. \\nThe nearest railway stations are Chirawa on \\nW.R. (16 km) and Loharu on N.R. (24 km). \\nThere are connecting buses to Pilani from \\nLoharu and Chirawa railway stations. There are \\nregular bus services between Delhi -Pilani and \\nJaipur -Pilani.  The buses leave Delhi from Inter -', metadata={'page': 15, 'source': 'pdfs/Bulletin_BITS.pdf'}),\n",
              "  Document(page_content='BITS Alumni (called as BITSians) are spread \\nacross the globe. The BITSians have done their alma mater proud by taking top position in \\nevery sphere of life – corporate, \\nentrepreneurship, academia, civil services, \\nliterature, performing arts, defense, social  \\nservices and so on. Congratulations on \\nbecoming the newest member of this ever \\ngrowing family of highly accomplished \\nindividuals.  \\nThe BITS Alumni Association (BITSAA) at \\nPilani was functioning from 1989 as a nodal \\nagency for maintaining liaison with Alum ni all \\nover the world and to involve them with the \\ndevelopment of the institute. A new division, \\nAlumni Affairs (BITSAA) Division, was created \\nin 2010 to give distinct thrust to the activities \\nrelated to Alumni and to connect and engage \\nstudents, alumni, f riends and well -wishers for a \\nlong-term relationship with BITS Pilani. It \\nfocused on development of alumni support to \\nthe continuing development of the Institute’s \\nacademic, research, and off -campus programs,', metadata={'page': 29, 'source': 'pdfs/Bulletin_BITS.pdf'})]}"
            ]
          },
          "metadata": {},
          "execution_count": 35
        }
      ],
      "source": [
        "final_result(\"BITS Pilani\")"
      ]
    },
    {
      "cell_type": "code",
      "execution_count": null,
      "metadata": {
        "id": "v7hzp89BPJPh"
      },
      "outputs": [],
      "source": []
    }
  ],
  "metadata": {
    "accelerator": "GPU",
    "colab": {
      "provenance": [],
      "gpuType": "T4",
      "include_colab_link": true
    },
    "kernelspec": {
      "display_name": "Python 3",
      "name": "python3"
    },
    "language_info": {
      "name": "python"
    }
  },
  "nbformat": 4,
  "nbformat_minor": 0
}